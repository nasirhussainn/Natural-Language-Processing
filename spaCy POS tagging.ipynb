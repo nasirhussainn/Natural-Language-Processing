{
 "cells": [
  {
   "cell_type": "markdown",
   "id": "bc48060e",
   "metadata": {},
   "source": [
    "<center><h2 style=\"color:purple\">spaCy Exercise</h2></center>"
   ]
  },
  {
   "cell_type": "markdown",
   "id": "eda171b8",
   "metadata": {},
   "source": [
    "<h3 style=\"color:purple\">Exercise for Spacy POS tutorial</h3>\n",
    "\n",
    "<b>You are parsing a news story from cnbc.com. News story is stores in news_story.txt which is available in this same folder on github. You need to,</b>\n",
    "<ol type=\"i\" style=\"color:green\">\n",
    "<li>Extract all NOUN tokens from this story. You will have to read the file in python first to collect all the text and then ii extract NOUNs in a python list</li>\n",
    "<li>Extract all numbers (NUM POS type) in a python list</li>\n",
    "<li>Print a count of all POS tags in this story</li></ol>"
   ]
  },
  {
   "cell_type": "code",
   "execution_count": 1,
   "id": "5b6ab5b4",
   "metadata": {},
   "outputs": [],
   "source": [
    "import spacy"
   ]
  },
  {
   "cell_type": "code",
   "execution_count": 2,
   "id": "32156cd6",
   "metadata": {},
   "outputs": [
    {
     "data": {
      "text/plain": [
       "'Inflation rose again in April, continuing a climb that has pushed consumers to the brink and is threatening the economic expansion, the Bureau of Labor Statistics reported Wednesday.\\n\\nThe consumer price index, a broad-based measure of prices for goods and services, increased 8.3% from a year ago, higher than the Dow Jones estimate for an 8.1% gain. That represented a slight ease from Marchâ€™s peak but was still close to the highest level since the summer of 1982.\\n\\nRemoving volatile food and ene'"
      ]
     },
     "execution_count": 2,
     "metadata": {},
     "output_type": "execute_result"
    }
   ],
   "source": [
    "with open(\"news_story.txt\",\"r\") as f:\n",
    "    news_text = f.read()\n",
    "    \n",
    "news_text[:500]"
   ]
  },
  {
   "cell_type": "code",
   "execution_count": 3,
   "id": "4389669a",
   "metadata": {},
   "outputs": [],
   "source": [
    "nlp = spacy.load(\"en_core_web_sm\")\n",
    "doc = nlp(news_text)"
   ]
  },
  {
   "cell_type": "markdown",
   "id": "583b7c8c",
   "metadata": {},
   "source": [
    "<h3 style=\"color:purple\">PART 1</h3>"
   ]
  },
  {
   "cell_type": "code",
   "execution_count": 18,
   "id": "ae4843df",
   "metadata": {},
   "outputs": [
    {
     "name": "stdout",
     "output_type": "stream",
     "text": [
      "[Inflation, climb, consumers, brink, expansion, consumer, price, index, measure, prices]\n"
     ]
    }
   ],
   "source": [
    "filtered_noun = []\n",
    "for token in doc:\n",
    "    if(token.pos_ in [\"NOUN\"]):\n",
    "        filtered_noun.append(token)\n",
    "print(filtered_noun[:10])"
   ]
  },
  {
   "cell_type": "code",
   "execution_count": null,
   "id": "ab9aa876",
   "metadata": {},
   "outputs": [],
   "source": []
  },
  {
   "cell_type": "markdown",
   "id": "0bf92632",
   "metadata": {},
   "source": [
    "<h3 style=\"color:purple\">PART 2</h3>"
   ]
  },
  {
   "cell_type": "code",
   "execution_count": 20,
   "id": "c9732acf",
   "metadata": {},
   "outputs": [
    {
     "name": "stdout",
     "output_type": "stream",
     "text": [
      "[8.3, 8.1, 1982, 6.2, 6, â€, 0.3, 0.2, 0.6, 0.4]\n"
     ]
    }
   ],
   "source": [
    "filtered_num = []\n",
    "for token in doc:\n",
    "    if(token.pos_ in [\"NUM\"]):\n",
    "        filtered_num.append(token)\n",
    "print(filtered_num[:10])\n",
    "    "
   ]
  },
  {
   "cell_type": "code",
   "execution_count": null,
   "id": "6a8df9d5",
   "metadata": {},
   "outputs": [],
   "source": []
  },
  {
   "cell_type": "markdown",
   "id": "bfca4694",
   "metadata": {},
   "source": [
    "<h3 style=\"color:purple\">PART 3</h3>"
   ]
  },
  {
   "cell_type": "code",
   "execution_count": 23,
   "id": "7262303b",
   "metadata": {},
   "outputs": [],
   "source": [
    "counts = doc.count_by(spacy.attrs.POS)"
   ]
  },
  {
   "cell_type": "code",
   "execution_count": 24,
   "id": "8f9c6894",
   "metadata": {},
   "outputs": [
    {
     "data": {
      "text/plain": [
       "{92: 98,\n",
       " 100: 27,\n",
       " 86: 15,\n",
       " 85: 39,\n",
       " 96: 17,\n",
       " 97: 32,\n",
       " 90: 34,\n",
       " 95: 4,\n",
       " 87: 13,\n",
       " 89: 10,\n",
       " 84: 23,\n",
       " 103: 7,\n",
       " 93: 20,\n",
       " 94: 4,\n",
       " 98: 8,\n",
       " 101: 1}"
      ]
     },
     "execution_count": 24,
     "metadata": {},
     "output_type": "execute_result"
    }
   ],
   "source": [
    "counts"
   ]
  },
  {
   "cell_type": "code",
   "execution_count": 29,
   "id": "44d3f311",
   "metadata": {},
   "outputs": [
    {
     "name": "stdout",
     "output_type": "stream",
     "text": [
      "NOUN |  98\n",
      "VERB |  27\n",
      "ADV |  15\n",
      "ADP |  39\n",
      "PROPN |  17\n",
      "PUNCT |  32\n",
      "DET |  34\n",
      "PRON |  4\n",
      "AUX |  13\n",
      "CCONJ |  10\n",
      "ADJ |  23\n",
      "SPACE |  7\n",
      "NUM |  20\n",
      "PART |  4\n",
      "SCONJ |  8\n",
      "X |  1\n"
     ]
    }
   ],
   "source": [
    "for k,v in counts.items():\n",
    "    print(doc.vocab[k].text, \"| \",v)"
   ]
  },
  {
   "cell_type": "code",
   "execution_count": null,
   "id": "07527493",
   "metadata": {},
   "outputs": [],
   "source": []
  },
  {
   "cell_type": "markdown",
   "id": "41073618",
   "metadata": {},
   "source": [
    "<h2 style=\"color:purple\">Nasir Hussain</h2>\n",
    "<h2 style=\"color:purple\">Dept. CS QAU 2024</h2>"
   ]
  },
  {
   "cell_type": "code",
   "execution_count": null,
   "id": "26a02f76",
   "metadata": {},
   "outputs": [],
   "source": []
  }
 ],
 "metadata": {
  "kernelspec": {
   "display_name": "myenv",
   "language": "python",
   "name": "myenv"
  },
  "language_info": {
   "codemirror_mode": {
    "name": "ipython",
    "version": 3
   },
   "file_extension": ".py",
   "mimetype": "text/x-python",
   "name": "python",
   "nbconvert_exporter": "python",
   "pygments_lexer": "ipython3",
   "version": "3.10.8"
  }
 },
 "nbformat": 4,
 "nbformat_minor": 5
}
