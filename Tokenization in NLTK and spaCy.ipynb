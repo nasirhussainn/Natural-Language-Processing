{
 "cells": [
  {
   "cell_type": "markdown",
   "id": "dd87c996",
   "metadata": {},
   "source": [
    "<center><h2 style=\"color:purple\">NLTK VS spaCY</h2></center>"
   ]
  },
  {
   "cell_type": "markdown",
   "id": "1e186a83",
   "metadata": {},
   "source": [
    "<ul><li><h2 style=\"color:purple\">spaCY</h2></li></ul>"
   ]
  },
  {
   "cell_type": "code",
   "execution_count": 2,
   "id": "bdf7be31",
   "metadata": {},
   "outputs": [],
   "source": [
    "import spacy"
   ]
  },
  {
   "cell_type": "code",
   "execution_count": 3,
   "id": "74cf0d3e",
   "metadata": {},
   "outputs": [],
   "source": [
    "nlp = spacy.load(\"en_core_web_sm\")"
   ]
  },
  {
   "cell_type": "markdown",
   "id": "9d8e7612",
   "metadata": {},
   "source": [
    "<h3 style=\"color:purple\">Sentence Tokenization</h3>"
   ]
  },
  {
   "cell_type": "code",
   "execution_count": 6,
   "id": "4283d955",
   "metadata": {},
   "outputs": [
    {
     "name": "stdout",
     "output_type": "stream",
     "text": [
      "Mr. Nasir Hussain start learning NLP.\n",
      "He is very curious to explore this field.\n"
     ]
    }
   ],
   "source": [
    "doc = nlp(\"Mr. Nasir Hussain start learning NLP. He is very curious to explore this field.\")\n",
    "\n",
    "for sentence in doc.sents:\n",
    "    print(sentence)"
   ]
  },
  {
   "cell_type": "markdown",
   "id": "75afbe02",
   "metadata": {},
   "source": [
    "<h3 style=\"color:purple\">Word Tokenization</h3>"
   ]
  },
  {
   "cell_type": "code",
   "execution_count": 8,
   "id": "104c2ca4",
   "metadata": {},
   "outputs": [
    {
     "name": "stdout",
     "output_type": "stream",
     "text": [
      "Mr.\n",
      "Nasir\n",
      "Hussain\n",
      "start\n",
      "learning\n",
      "NLP\n",
      ".\n",
      "He\n",
      "is\n",
      "very\n",
      "curious\n",
      "to\n",
      "explore\n",
      "this\n",
      "field\n",
      ".\n"
     ]
    }
   ],
   "source": [
    "for sentence in doc.sents:\n",
    "    for word in sentence:\n",
    "        print(word)"
   ]
  },
  {
   "cell_type": "markdown",
   "id": "bcc47c96",
   "metadata": {},
   "source": [
    "<br>"
   ]
  },
  {
   "cell_type": "markdown",
   "id": "20ee1d46",
   "metadata": {},
   "source": [
    "<ul><li><h2 style=\"color:purple\">NLTK</h2></li></ul>"
   ]
  },
  {
   "cell_type": "code",
   "execution_count": 12,
   "id": "af1320ec",
   "metadata": {},
   "outputs": [
    {
     "name": "stderr",
     "output_type": "stream",
     "text": [
      "[nltk_data] Downloading package punkt to\n",
      "[nltk_data]     C:\\Users\\Nasir\\AppData\\Roaming\\nltk_data...\n",
      "[nltk_data]   Unzipping tokenizers\\punkt.zip.\n"
     ]
    },
    {
     "data": {
      "text/plain": [
       "True"
      ]
     },
     "execution_count": 12,
     "metadata": {},
     "output_type": "execute_result"
    }
   ],
   "source": [
    "import nltk\n",
    "nltk.download(\"punkt\")"
   ]
  },
  {
   "cell_type": "code",
   "execution_count": 13,
   "id": "d62829bc",
   "metadata": {},
   "outputs": [],
   "source": [
    "from nltk.tokenize import sent_tokenize"
   ]
  },
  {
   "cell_type": "markdown",
   "id": "7d56e6a8",
   "metadata": {},
   "source": [
    "<h3 style=\"color:purple\">Sentence Tokenization</h3>"
   ]
  },
  {
   "cell_type": "code",
   "execution_count": 14,
   "id": "77654231",
   "metadata": {
    "scrolled": true
   },
   "outputs": [
    {
     "data": {
      "text/plain": [
       "['Mr. Nasir Hussain start learning NLP.',\n",
       " 'He is very curious to explore this field.']"
      ]
     },
     "execution_count": 14,
     "metadata": {},
     "output_type": "execute_result"
    }
   ],
   "source": [
    "sent_tokenize(\"Mr. Nasir Hussain start learning NLP. He is very curious to explore this field.\")"
   ]
  },
  {
   "cell_type": "markdown",
   "id": "4108891f",
   "metadata": {},
   "source": [
    "<h3 style=\"color:purple\">Word Tokenization</h3>"
   ]
  },
  {
   "cell_type": "code",
   "execution_count": 15,
   "id": "facc960a",
   "metadata": {
    "scrolled": true
   },
   "outputs": [
    {
     "data": {
      "text/plain": [
       "['Mr.',\n",
       " 'Nasir',\n",
       " 'Hussain',\n",
       " 'start',\n",
       " 'learning',\n",
       " 'NLP',\n",
       " '.',\n",
       " 'He',\n",
       " 'is',\n",
       " 'very',\n",
       " 'curious',\n",
       " 'to',\n",
       " 'explore',\n",
       " 'this',\n",
       " 'field',\n",
       " '.']"
      ]
     },
     "execution_count": 15,
     "metadata": {},
     "output_type": "execute_result"
    }
   ],
   "source": [
    "from nltk.tokenize import word_tokenize\n",
    "word_tokenize(\"Mr. Nasir Hussain start learning NLP. He is very curious to explore this field.\")"
   ]
  },
  {
   "cell_type": "code",
   "execution_count": null,
   "id": "85b3e375",
   "metadata": {},
   "outputs": [],
   "source": []
  }
 ],
 "metadata": {
  "kernelspec": {
   "display_name": "myenv",
   "language": "python",
   "name": "myenv"
  },
  "language_info": {
   "codemirror_mode": {
    "name": "ipython",
    "version": 3
   },
   "file_extension": ".py",
   "mimetype": "text/x-python",
   "name": "python",
   "nbconvert_exporter": "python",
   "pygments_lexer": "ipython3",
   "version": "3.10.8"
  }
 },
 "nbformat": 4,
 "nbformat_minor": 5
}
