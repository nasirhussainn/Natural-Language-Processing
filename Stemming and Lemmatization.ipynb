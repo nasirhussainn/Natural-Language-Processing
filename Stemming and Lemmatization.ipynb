{
 "cells": [
  {
   "cell_type": "markdown",
   "id": "01a9fa69",
   "metadata": {},
   "source": [
    "<center><h2 style=\"color:purple\">STEMMING AND LEMMATIZATION</h2></center>"
   ]
  },
  {
   "cell_type": "markdown",
   "id": "c1fe89da",
   "metadata": {},
   "source": [
    "<b style=\"color:green\">Stemming is not available in spaCy whereas NLTK offer both</b>"
   ]
  },
  {
   "cell_type": "markdown",
   "id": "f8919796",
   "metadata": {},
   "source": [
    "<ul><li><h3 style=\"color:purple\">Stemming</h3></li></ul>"
   ]
  },
  {
   "cell_type": "code",
   "execution_count": 2,
   "id": "4e27b24a",
   "metadata": {},
   "outputs": [],
   "source": [
    "import nltk"
   ]
  },
  {
   "cell_type": "code",
   "execution_count": 3,
   "id": "7fea11e7",
   "metadata": {},
   "outputs": [],
   "source": [
    "from nltk.stem import PorterStemmer\n",
    "stemmer=PorterStemmer()"
   ]
  },
  {
   "cell_type": "code",
   "execution_count": 4,
   "id": "1fec22de",
   "metadata": {},
   "outputs": [
    {
     "name": "stdout",
     "output_type": "stream",
     "text": [
      "Original: running\tStemmed: run\n",
      "Original: jumped\tStemmed: jump\n",
      "Original: swimming\tStemmed: swim\n",
      "Original: talked\tStemmed: talk\n",
      "Original: fishing\tStemmed: fish\n",
      "Original: happiness\tStemmed: happi\n",
      "Original: playing\tStemmed: play\n",
      "Original: computers\tStemmed: comput\n",
      "Original: programming\tStemmed: program\n",
      "Original: jumped\tStemmed: jump\n",
      "Original: designing\tStemmed: design\n",
      "Original: sleeping\tStemmed: sleep\n",
      "Original: laughter\tStemmed: laughter\n",
      "Original: writing\tStemmed: write\n",
      "Original: walking\tStemmed: walk\n",
      "Original: singers\tStemmed: singer\n",
      "Original: swimming\tStemmed: swim\n",
      "Original: danced\tStemmed: danc\n",
      "Original: developers\tStemmed: develop\n",
      "Original: cooking\tStemmed: cook\n"
     ]
    }
   ],
   "source": [
    "words = [\n",
    "    \"running\", \"jumped\", \"swimming\", \"talked\", \"fishing\",\n",
    "    \"happiness\", \"playing\", \"computers\", \"programming\", \"jumped\",\n",
    "    \"designing\", \"sleeping\", \"laughter\", \"writing\", \"walking\",\n",
    "    \"singers\", \"swimming\", \"danced\", \"developers\", \"cooking\"\n",
    "]\n",
    "\n",
    "# Stem each word and print the result\n",
    "for word in words:\n",
    "    stemmed_word = stemmer.stem(word)\n",
    "    print(f\"Original: {word}\\tStemmed: {stemmed_word}\")"
   ]
  },
  {
   "cell_type": "markdown",
   "id": "2f958b27",
   "metadata": {},
   "source": [
    "<ul><li><h3 style=\"color:purple\">Lemmatization</h3></li></ul>"
   ]
  },
  {
   "cell_type": "markdown",
   "id": "14f99487",
   "metadata": {},
   "source": [
    "<b>Lemmatization using NLTK</b>"
   ]
  },
  {
   "cell_type": "code",
   "execution_count": 5,
   "id": "42fc8042",
   "metadata": {},
   "outputs": [],
   "source": [
    "from nltk.stem import WordNetLemmatizer\n",
    "from nltk.corpus import wordnet"
   ]
  },
  {
   "cell_type": "code",
   "execution_count": 11,
   "id": "34a2e113",
   "metadata": {},
   "outputs": [
    {
     "name": "stderr",
     "output_type": "stream",
     "text": [
      "[nltk_data] Downloading package averaged_perceptron_tagger to\n",
      "[nltk_data]     C:\\Users\\Nasir\\AppData\\Roaming\\nltk_data...\n",
      "[nltk_data]   Unzipping taggers\\averaged_perceptron_tagger.zip.\n"
     ]
    },
    {
     "data": {
      "text/plain": [
       "True"
      ]
     },
     "execution_count": 11,
     "metadata": {},
     "output_type": "execute_result"
    }
   ],
   "source": [
    "nltk.download('averaged_perceptron_tagger')"
   ]
  },
  {
   "cell_type": "code",
   "execution_count": 12,
   "id": "146b645e",
   "metadata": {},
   "outputs": [],
   "source": [
    "lemmatizer = WordNetLemmatizer()"
   ]
  },
  {
   "cell_type": "code",
   "execution_count": 14,
   "id": "030f7c44",
   "metadata": {},
   "outputs": [
    {
     "name": "stdout",
     "output_type": "stream",
     "text": [
      "Original: running\tLemmatized: run\n",
      "Original: jumped\tLemmatized: jumped\n",
      "Original: swimming\tLemmatized: swim\n",
      "Original: talked\tLemmatized: talk\n",
      "Original: fishing\tLemmatized: fishing\n",
      "Original: happiness\tLemmatized: happiness\n",
      "Original: playing\tLemmatized: play\n",
      "Original: computers\tLemmatized: computer\n",
      "Original: programming\tLemmatized: program\n",
      "Original: jumped\tLemmatized: jumped\n",
      "Original: designing\tLemmatized: design\n",
      "Original: sleeping\tLemmatized: sleep\n",
      "Original: laughter\tLemmatized: laughter\n",
      "Original: writing\tLemmatized: write\n",
      "Original: walking\tLemmatized: walk\n",
      "Original: singers\tLemmatized: singer\n",
      "Original: swimming\tLemmatized: swim\n",
      "Original: danced\tLemmatized: dance\n",
      "Original: developers\tLemmatized: developer\n",
      "Original: cooking\tLemmatized: cooking\n"
     ]
    }
   ],
   "source": [
    "def get_wordnet_pos(nltk_pos):\n",
    "    if nltk_pos.startswith('J'):\n",
    "        return wordnet.ADJ\n",
    "    elif nltk_pos.startswith('V'):\n",
    "        return wordnet.VERB\n",
    "    elif nltk_pos.startswith('N'):\n",
    "        return wordnet.NOUN\n",
    "    elif nltk_pos.startswith('R'):\n",
    "        return wordnet.ADV\n",
    "    else:\n",
    "        return wordnet.NOUN  # Default to noun\n",
    "\n",
    "# Lemmatize each word and print the result\n",
    "for word in words:\n",
    "    nltk_pos = nltk.pos_tag([word])[0][1]  # Get NLTK POS tag\n",
    "    wordnet_pos = get_wordnet_pos(nltk_pos)  # Convert to WordNet POS\n",
    "    lemmatized_word = lemmatizer.lemmatize(word, pos=wordnet_pos)\n",
    "    print(f\"Original: {word}\\tLemmatized: {lemmatized_word}\")"
   ]
  },
  {
   "cell_type": "markdown",
   "id": "104344fc",
   "metadata": {},
   "source": [
    "<b>Lemmatization using spaCy</b>"
   ]
  },
  {
   "cell_type": "code",
   "execution_count": 15,
   "id": "8a77765c",
   "metadata": {},
   "outputs": [],
   "source": [
    "import spacy"
   ]
  },
  {
   "cell_type": "code",
   "execution_count": 16,
   "id": "6cede46c",
   "metadata": {},
   "outputs": [],
   "source": [
    "nlp = spacy.load(\"en_core_web_sm\")"
   ]
  },
  {
   "cell_type": "code",
   "execution_count": 19,
   "id": "1977a135",
   "metadata": {},
   "outputs": [],
   "source": [
    "text = \" \".join(words)\n",
    "doc=nlp(text)"
   ]
  },
  {
   "cell_type": "code",
   "execution_count": 20,
   "id": "58509419",
   "metadata": {},
   "outputs": [
    {
     "name": "stdout",
     "output_type": "stream",
     "text": [
      "Original: running\tLemmatized: run\n",
      "Original: jumped\tLemmatized: jump\n",
      "Original: swimming\tLemmatized: swim\n",
      "Original: talked\tLemmatized: talk\n",
      "Original: fishing\tLemmatized: fish\n",
      "Original: happiness\tLemmatized: happiness\n",
      "Original: playing\tLemmatized: play\n",
      "Original: computers\tLemmatized: computer\n",
      "Original: programming\tLemmatized: programming\n",
      "Original: jumped\tLemmatized: jump\n",
      "Original: designing\tLemmatized: design\n",
      "Original: sleeping\tLemmatized: sleep\n",
      "Original: laughter\tLemmatized: laughter\n",
      "Original: writing\tLemmatized: write\n",
      "Original: walking\tLemmatized: walk\n",
      "Original: singers\tLemmatized: singer\n",
      "Original: swimming\tLemmatized: swim\n",
      "Original: danced\tLemmatized: dance\n",
      "Original: developers\tLemmatized: developer\n",
      "Original: cooking\tLemmatized: cook\n"
     ]
    }
   ],
   "source": [
    "for token in doc:\n",
    "     print(f\"Original: {token}\\tLemmatized: {token.lemma_}\")\n",
    "    "
   ]
  },
  {
   "cell_type": "markdown",
   "id": "68ac454a",
   "metadata": {},
   "source": [
    "we can also customize lemmatization by editing attribute rule becuase it assign lemmatization to each token. so we can change such as Bro and Brah to Brother which are basically slang words"
   ]
  },
  {
   "cell_type": "markdown",
   "id": "21180cce",
   "metadata": {},
   "source": [
    "<h2 style=\"color:purple\">Nasir Hussain</h2>\n",
    "<h2 style=\"color:purple\">Dept. CS QAU 2024</h2>"
   ]
  },
  {
   "cell_type": "code",
   "execution_count": null,
   "id": "5671e3b8",
   "metadata": {},
   "outputs": [],
   "source": []
  }
 ],
 "metadata": {
  "kernelspec": {
   "display_name": "myenv",
   "language": "python",
   "name": "myenv"
  },
  "language_info": {
   "codemirror_mode": {
    "name": "ipython",
    "version": 3
   },
   "file_extension": ".py",
   "mimetype": "text/x-python",
   "name": "python",
   "nbconvert_exporter": "python",
   "pygments_lexer": "ipython3",
   "version": "3.10.8"
  }
 },
 "nbformat": 4,
 "nbformat_minor": 5
}
