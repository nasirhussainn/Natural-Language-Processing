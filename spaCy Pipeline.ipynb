{
 "cells": [
  {
   "cell_type": "markdown",
   "id": "29caff7f",
   "metadata": {},
   "source": [
    "<center><h2 style=\"color:purple\">Spacy Pipeline</h2></center>"
   ]
  },
  {
   "cell_type": "code",
   "execution_count": 1,
   "id": "483971ee",
   "metadata": {},
   "outputs": [],
   "source": [
    "import spacy"
   ]
  },
  {
   "cell_type": "markdown",
   "id": "df833040",
   "metadata": {},
   "source": [
    "<h3 style=\"color:purple\">Blank Pipeline</h3>"
   ]
  },
  {
   "cell_type": "code",
   "execution_count": 2,
   "id": "def01f83",
   "metadata": {},
   "outputs": [],
   "source": [
    "nlp = spacy.blank(\"en\")"
   ]
  },
  {
   "cell_type": "code",
   "execution_count": 4,
   "id": "05ae10ca",
   "metadata": {},
   "outputs": [],
   "source": [
    "doc=nlp(\"spaCy is an open-source software library for advanced natural language processing, written in the programming languages Python and Cython. The library is published under the MIT license and its main developers are Matthew Honnibal and Ines Montani, the founders of the software company Explosion.\")"
   ]
  },
  {
   "cell_type": "code",
   "execution_count": 5,
   "id": "4b03e2c8",
   "metadata": {},
   "outputs": [
    {
     "name": "stdout",
     "output_type": "stream",
     "text": [
      "spaCy\n",
      "is\n",
      "an\n",
      "open\n",
      "-\n",
      "source\n",
      "software\n",
      "library\n",
      "for\n",
      "advanced\n",
      "natural\n",
      "language\n",
      "processing\n",
      ",\n",
      "written\n",
      "in\n",
      "the\n",
      "programming\n",
      "languages\n",
      "Python\n",
      "and\n",
      "Cython\n",
      ".\n",
      "The\n",
      "library\n",
      "is\n",
      "published\n",
      "under\n",
      "the\n",
      "MIT\n",
      "license\n",
      "and\n",
      "its\n",
      "main\n",
      "developers\n",
      "are\n",
      "Matthew\n",
      "Honnibal\n",
      "and\n",
      "Ines\n",
      "Montani\n",
      ",\n",
      "the\n",
      "founders\n",
      "of\n",
      "the\n",
      "software\n",
      "company\n",
      "Explosion\n",
      ".\n"
     ]
    }
   ],
   "source": [
    "for token in doc:\n",
    "    print(token)"
   ]
  },
  {
   "cell_type": "code",
   "execution_count": 6,
   "id": "6a8ae8e7",
   "metadata": {},
   "outputs": [
    {
     "data": {
      "text/plain": [
       "[]"
      ]
     },
     "execution_count": 6,
     "metadata": {},
     "output_type": "execute_result"
    }
   ],
   "source": [
    "nlp.pipe_names"
   ]
  },
  {
   "cell_type": "markdown",
   "id": "e0719cea",
   "metadata": {},
   "source": [
    "<h3 style=\"color:purple\">Pre-Trained Pipeline</h3>"
   ]
  },
  {
   "cell_type": "code",
   "execution_count": 15,
   "id": "97e7193a",
   "metadata": {},
   "outputs": [],
   "source": [
    "nlp1=spacy.load(\"en_core_web_sm\")\n",
    "doc=nlp1(\"spaCy is an open-source software library for advanced natural language processing, written in the programming languages Python and Cython. The library is published under the MIT license and its main developers are Matthew Honnibal and Ines Montani, the founders of the software company Explosion.\")"
   ]
  },
  {
   "cell_type": "code",
   "execution_count": 16,
   "id": "aa8dbc63",
   "metadata": {},
   "outputs": [
    {
     "data": {
      "text/plain": [
       "['tok2vec', 'tagger', 'parser', 'attribute_ruler', 'lemmatizer', 'ner']"
      ]
     },
     "execution_count": 16,
     "metadata": {},
     "output_type": "execute_result"
    }
   ],
   "source": [
    "nlp1.pipe_names"
   ]
  },
  {
   "cell_type": "markdown",
   "id": "494ba546",
   "metadata": {},
   "source": [
    "<b>token.pos_ from tagger and lemma_ from lemmatizer component</b>"
   ]
  },
  {
   "cell_type": "code",
   "execution_count": 17,
   "id": "f8494996",
   "metadata": {},
   "outputs": [
    {
     "name": "stdout",
     "output_type": "stream",
     "text": [
      "spaCy  |  INTJ  |  spacy\n",
      "is  |  AUX  |  be\n",
      "an  |  DET  |  an\n",
      "open  |  ADJ  |  open\n",
      "-  |  PUNCT  |  -\n",
      "source  |  NOUN  |  source\n",
      "software  |  NOUN  |  software\n",
      "library  |  NOUN  |  library\n",
      "for  |  ADP  |  for\n",
      "advanced  |  ADJ  |  advanced\n",
      "natural  |  ADJ  |  natural\n",
      "language  |  NOUN  |  language\n",
      "processing  |  NOUN  |  processing\n",
      ",  |  PUNCT  |  ,\n",
      "written  |  VERB  |  write\n",
      "in  |  ADP  |  in\n",
      "the  |  DET  |  the\n",
      "programming  |  NOUN  |  programming\n",
      "languages  |  NOUN  |  language\n",
      "Python  |  PROPN  |  Python\n",
      "and  |  CCONJ  |  and\n",
      "Cython  |  PROPN  |  Cython\n",
      ".  |  PUNCT  |  .\n",
      "The  |  DET  |  the\n",
      "library  |  NOUN  |  library\n",
      "is  |  AUX  |  be\n",
      "published  |  VERB  |  publish\n",
      "under  |  ADP  |  under\n",
      "the  |  DET  |  the\n",
      "MIT  |  PROPN  |  MIT\n",
      "license  |  NOUN  |  license\n",
      "and  |  CCONJ  |  and\n",
      "its  |  PRON  |  its\n",
      "main  |  ADJ  |  main\n",
      "developers  |  NOUN  |  developer\n",
      "are  |  AUX  |  be\n",
      "Matthew  |  PROPN  |  Matthew\n",
      "Honnibal  |  PROPN  |  Honnibal\n",
      "and  |  CCONJ  |  and\n",
      "Ines  |  PROPN  |  Ines\n",
      "Montani  |  PROPN  |  Montani\n",
      ",  |  PUNCT  |  ,\n",
      "the  |  DET  |  the\n",
      "founders  |  NOUN  |  founder\n",
      "of  |  ADP  |  of\n",
      "the  |  DET  |  the\n",
      "software  |  NOUN  |  software\n",
      "company  |  NOUN  |  company\n",
      "Explosion  |  PROPN  |  Explosion\n",
      ".  |  PUNCT  |  .\n"
     ]
    }
   ],
   "source": [
    "for token in doc:\n",
    "    print(token, \" | \",token.pos_, \" | \",token.lemma_)"
   ]
  },
  {
   "cell_type": "code",
   "execution_count": 18,
   "id": "72494bec",
   "metadata": {},
   "outputs": [],
   "source": [
    "from spacy import displacy"
   ]
  },
  {
   "cell_type": "markdown",
   "id": "69a1dd02",
   "metadata": {},
   "source": [
    "<b>Entity Name Recognition</b>"
   ]
  },
  {
   "cell_type": "code",
   "execution_count": 19,
   "id": "be87b04e",
   "metadata": {},
   "outputs": [
    {
     "data": {
      "text/html": [
       "<span class=\"tex2jax_ignore\"><div class=\"entities\" style=\"line-height: 2.5; direction: ltr\">spaCy is an open-source software library for advanced natural language processing, written in the programming languages Python and \n",
       "<mark class=\"entity\" style=\"background: #f0d0ff; padding: 0.45em 0.6em; margin: 0 0.25em; line-height: 1; border-radius: 0.35em;\">\n",
       "    Cython\n",
       "    <span style=\"font-size: 0.8em; font-weight: bold; line-height: 1; border-radius: 0.35em; vertical-align: middle; margin-left: 0.5rem\">WORK_OF_ART</span>\n",
       "</mark>\n",
       ". The library is published under the \n",
       "<mark class=\"entity\" style=\"background: #7aecec; padding: 0.45em 0.6em; margin: 0 0.25em; line-height: 1; border-radius: 0.35em;\">\n",
       "    MIT\n",
       "    <span style=\"font-size: 0.8em; font-weight: bold; line-height: 1; border-radius: 0.35em; vertical-align: middle; margin-left: 0.5rem\">ORG</span>\n",
       "</mark>\n",
       " license and its main developers are \n",
       "<mark class=\"entity\" style=\"background: #aa9cfc; padding: 0.45em 0.6em; margin: 0 0.25em; line-height: 1; border-radius: 0.35em;\">\n",
       "    Matthew Honnibal\n",
       "    <span style=\"font-size: 0.8em; font-weight: bold; line-height: 1; border-radius: 0.35em; vertical-align: middle; margin-left: 0.5rem\">PERSON</span>\n",
       "</mark>\n",
       " and \n",
       "<mark class=\"entity\" style=\"background: #aa9cfc; padding: 0.45em 0.6em; margin: 0 0.25em; line-height: 1; border-radius: 0.35em;\">\n",
       "    Ines Montani\n",
       "    <span style=\"font-size: 0.8em; font-weight: bold; line-height: 1; border-radius: 0.35em; vertical-align: middle; margin-left: 0.5rem\">PERSON</span>\n",
       "</mark>\n",
       ", the founders of the software company Explosion.</div></span>"
      ],
      "text/plain": [
       "<IPython.core.display.HTML object>"
      ]
     },
     "metadata": {},
     "output_type": "display_data"
    }
   ],
   "source": [
    "displacy.render(doc,style=\"ent\")"
   ]
  },
  {
   "cell_type": "code",
   "execution_count": null,
   "id": "955b1b87",
   "metadata": {},
   "outputs": [],
   "source": []
  }
 ],
 "metadata": {
  "kernelspec": {
   "display_name": "myenv",
   "language": "python",
   "name": "myenv"
  },
  "language_info": {
   "codemirror_mode": {
    "name": "ipython",
    "version": 3
   },
   "file_extension": ".py",
   "mimetype": "text/x-python",
   "name": "python",
   "nbconvert_exporter": "python",
   "pygments_lexer": "ipython3",
   "version": "3.10.8"
  }
 },
 "nbformat": 4,
 "nbformat_minor": 5
}
